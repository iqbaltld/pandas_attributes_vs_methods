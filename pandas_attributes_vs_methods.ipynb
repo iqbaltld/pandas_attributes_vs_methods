{
 "cells": [
  {
   "cell_type": "markdown",
   "id": "673c4870",
   "metadata": {},
   "source": [
    "# 📊 Understanding Pandas: Attributes vs Methods\n",
    "This notebook is designed to help **Pandas beginners** understand the difference between attributes and methods using a real dataset of student scores.\n",
    "\n",
    "**Attributes** provide information about a DataFrame (e.g., shape, columns).\n",
    "**Methods** perform actions or calculations (e.g., head(), describe())."
   ]
  },
  {
   "cell_type": "code",
   "execution_count": null,
   "id": "2df30a61",
   "metadata": {},
   "outputs": [],
   "source": [
    "import pandas as pd\n",
    "\n",
    "# Load the dataset\n",
    "df = pd.read_csv('data.csv')"
   ]
  },
  {
   "cell_type": "markdown",
   "id": "d37f1a1a",
   "metadata": {},
   "source": [
    "## 👀 Let's preview the dataset"
   ]
  },
  {
   "cell_type": "code",
   "execution_count": null,
   "id": "7cd603be",
   "metadata": {},
   "outputs": [],
   "source": [
    "df.head()"
   ]
  },
  {
   "cell_type": "markdown",
   "id": "a15b82d6",
   "metadata": {},
   "source": [
    "## 🔍 Common Attributes (no parentheses)\n",
    "- These are like properties that describe the DataFrame.\n",
    "- No need to use `()`."
   ]
  },
  {
   "cell_type": "code",
   "execution_count": null,
   "id": "b31db6f1",
   "metadata": {},
   "outputs": [],
   "source": [
    "print('Shape:', df.shape)\n",
    "print('Columns:', df.columns.tolist())\n",
    "print('Index:', df.index)\n",
    "print('Data types:', df.dtypes)\n",
    "print('Size:', df.size)\n",
    "print('Number of dimensions:', df.ndim)"
   ]
  },
  {
   "cell_type": "markdown",
   "id": "e6cf6b35",
   "metadata": {},
   "source": [
    "## ⚙️ Common Methods (use parentheses)\n",
    "- Methods are functions that you call with `()`.\n",
    "- They return a result or do something with the data."
   ]
  },
  {
   "cell_type": "code",
   "execution_count": null,
   "id": "32de0c9d",
   "metadata": {},
   "outputs": [],
   "source": [
    "df.info()\n",
    "df.describe()\n",
    "df.sample(5)\n",
    "df.isnull().sum()\n",
    "df.sort_values('Math_Score', ascending=False).head(3)"
   ]
  },
  {
   "cell_type": "markdown",
   "id": "e883ee2c",
   "metadata": {},
   "source": [
    "## 🧠 Bonus: How to Check if Something is a Method or Attribute"
   ]
  },
  {
   "cell_type": "code",
   "execution_count": null,
   "id": "9904eeab",
   "metadata": {},
   "outputs": [],
   "source": [
    "print(type(df.shape))    # Attribute: tuple\n",
    "print(type(df.sample))   # Method: function"
   ]
  },
  {
   "cell_type": "markdown",
   "id": "209aaa70",
   "metadata": {},
   "source": [
    "## ✅ Summary\n",
    "- Use attributes to **get info** about a DataFrame (no `()`)\n",
    "- Use methods to **perform operations** (with `()`)\n",
    "- Use `type()` to find out if it's an attribute or method\n",
    "\n",
    "**Happy Learning! 🚀**"
   ]
  }
 ],
 "metadata": {},
 "nbformat": 4,
 "nbformat_minor": 5
}